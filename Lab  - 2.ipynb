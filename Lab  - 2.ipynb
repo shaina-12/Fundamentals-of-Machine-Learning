{
 "cells": [
  {
   "cell_type": "markdown",
   "id": "9b469e0c",
   "metadata": {},
   "source": [
    "# Experiment  - 2\n",
    "## Aim: Intermediate Python Programs\n",
    "## Software Used: Jupyter Notebook\n",
    "## Code and Output:"
   ]
  },
  {
   "cell_type": "markdown",
   "id": "af14f9e0",
   "metadata": {},
   "source": [
    "### Loops"
   ]
  },
  {
   "cell_type": "code",
   "execution_count": 1,
   "id": "668c664d",
   "metadata": {},
   "outputs": [
    {
     "name": "stdout",
     "output_type": "stream",
     "text": [
      "2\n",
      "4\n",
      "8\n",
      "16\n",
      "32\n",
      "64\n",
      "128\n",
      "256\n"
     ]
    }
   ],
   "source": [
    "# while loop\n",
    "number = 1\n",
    "while(number<200):\n",
    "    number=number*2\n",
    "    print(number)"
   ]
  },
  {
   "cell_type": "code",
   "execution_count": 2,
   "id": "d0beee0f",
   "metadata": {},
   "outputs": [
    {
     "name": "stdout",
     "output_type": "stream",
     "text": [
      "20\n",
      "18\n",
      "16\n",
      "14\n",
      "12\n",
      "10\n",
      "8\n",
      "6\n",
      "4\n",
      "2\n",
      "Not Again!!!\n"
     ]
    }
   ],
   "source": [
    "# for loop\n",
    "for x in range(20,0,-2):\n",
    "    print(x)\n",
    "print(\"Not Again!!!\")"
   ]
  },
  {
   "cell_type": "markdown",
   "id": "8f79c318",
   "metadata": {},
   "source": [
    "### Functions and Lambda Expressions"
   ]
  },
  {
   "cell_type": "code",
   "execution_count": 3,
   "id": "edd1f9a6",
   "metadata": {},
   "outputs": [
    {
     "name": "stdout",
     "output_type": "stream",
     "text": [
      "6\n"
     ]
    }
   ],
   "source": [
    "# lambda functions\n",
    "x = lambda a,b: a*b\n",
    "print(x(2,3))"
   ]
  },
  {
   "cell_type": "code",
   "execution_count": 4,
   "id": "654b4873",
   "metadata": {
    "scrolled": true
   },
   "outputs": [
    {
     "name": "stdout",
     "output_type": "stream",
     "text": [
      "(49, 1)\n"
     ]
    }
   ],
   "source": [
    "# user defined function\n",
    "def fun(x,y):\n",
    "    a=x+y\n",
    "    b=x-y\n",
    "    return a**2,b**2\n",
    "print(fun(3,4))"
   ]
  },
  {
   "cell_type": "markdown",
   "id": "94721445",
   "metadata": {},
   "source": [
    "### Matrix Operations"
   ]
  },
  {
   "cell_type": "markdown",
   "id": "4378218a",
   "metadata": {},
   "source": [
    "#### Perform basic operations on matrices (like addition, subtraction, multiplication) and display specific rows or columns of the matrix."
   ]
  },
  {
   "cell_type": "code",
   "execution_count": 17,
   "id": "a504d784",
   "metadata": {},
   "outputs": [
    {
     "name": "stdout",
     "output_type": "stream",
     "text": [
      "matrix 1\n",
      "[[56  4 47]\n",
      " [59 20 92]\n",
      " [66 68 45]]\n",
      "matrix 2\n",
      "[[ 4 34 29]\n",
      " [29  2 42]\n",
      " [80 24 95]]\n",
      "sum of the matrix 1 and matrix 2 is: \n",
      "[[ 60  38  76]\n",
      " [ 88  22 134]\n",
      " [146  92 140]]\n"
     ]
    }
   ],
   "source": [
    "# matrix addition\n",
    "import numpy as np\n",
    "import random as rn\n",
    "mat1 = np.array([rn.randint(1,101) for i in range(9)]).reshape(3,3) \n",
    "mat2 = np.array([rn.randint(1,101) for i in range(9)]).reshape(3,3) \n",
    "print('matrix 1')\n",
    "print(mat1)\n",
    "print('matrix 2')\n",
    "print(mat2)\n",
    "mat3 = np.add(mat1,mat2)\n",
    "print(\"sum of the matrix 1 and matrix 2 is: \")\n",
    "print(mat3)"
   ]
  },
  {
   "cell_type": "code",
   "execution_count": 18,
   "id": "b0f096a5",
   "metadata": {},
   "outputs": [
    {
     "name": "stdout",
     "output_type": "stream",
     "text": [
      "difference between matrix 1 and matrix 2 is: \n",
      "[[ 52 -30  18]\n",
      " [ 30  18  50]\n",
      " [-14  44 -50]]\n"
     ]
    }
   ],
   "source": [
    "# subtraction of two matrices\n",
    "mat4 = np.subtract(mat1,mat2)\n",
    "print(\"difference between matrix 1 and matrix 2 is: \")\n",
    "print(mat4)"
   ]
  },
  {
   "cell_type": "code",
   "execution_count": 19,
   "id": "ca0ee87e",
   "metadata": {},
   "outputs": [
    {
     "name": "stdout",
     "output_type": "stream",
     "text": [
      "multiplication of the matrix 1 and matrix 2 is: \n",
      "[[ 4100  3040  6257]\n",
      " [ 8176  4254 11291]\n",
      " [ 5836  3460  9045]]\n"
     ]
    }
   ],
   "source": [
    "# multiplicaion of two matrices\n",
    "mat5 = np.matmul(mat1,mat2)\n",
    "print(\"multiplication of the matrix 1 and matrix 2 is: \")\n",
    "print(mat5)"
   ]
  },
  {
   "cell_type": "code",
   "execution_count": 20,
   "id": "9a3ebb0c",
   "metadata": {},
   "outputs": [
    {
     "name": "stdout",
     "output_type": "stream",
     "text": [
      "matrix 6\n",
      "[[77 56 80]\n",
      " [14 74 71]\n",
      " [10 17 36]]\n",
      "transpose of a matix is: \n",
      "[[77 14 10]\n",
      " [56 74 17]\n",
      " [80 71 36]]\n"
     ]
    }
   ],
   "source": [
    "# transpose of a matrix\n",
    "mat6 = np.array([rn.randint(1,101) for i in range(9)]).reshape(3,3) \n",
    "print('matrix 6')\n",
    "print(mat6)\n",
    "mat7 = np.transpose(mat6)\n",
    "print('transpose of a matix is: ')\n",
    "print(mat7)"
   ]
  },
  {
   "cell_type": "code",
   "execution_count": 44,
   "id": "5189fba5",
   "metadata": {},
   "outputs": [
    {
     "name": "stdout",
     "output_type": "stream",
     "text": [
      "matrix\n",
      "[[77 56 80]\n",
      " [14 74 71]\n",
      " [10 17 36]]\n",
      "3rd row\n",
      "[[10 17 36]]\n",
      "2nd column\n",
      "[[56]\n",
      " [74]\n",
      " [17]]\n"
     ]
    }
   ],
   "source": [
    "# displaying the specific rows and columns of a matrix\n",
    "print('matrix')\n",
    "print(mat6)\n",
    "# 3rd row\n",
    "print('3rd row')\n",
    "print(mat6[2:,])\n",
    "# 2nd column\n",
    "print('2nd column')\n",
    "print(mat6[:,[1]])"
   ]
  },
  {
   "cell_type": "markdown",
   "id": "5b76a560",
   "metadata": {},
   "source": [
    "#### Perform other matrix operations like converting matrix data to absolute values, taking the negative of matrix values, additing/removing rows/columns from a matrix, finding the maximum or minimum values in a matrix or in a row/column, and finding the sum of some/all elements in a matrix."
   ]
  },
  {
   "cell_type": "code",
   "execution_count": 47,
   "id": "f2aec8c4",
   "metadata": {},
   "outputs": [
    {
     "name": "stdout",
     "output_type": "stream",
     "text": [
      "matrix\n",
      "[[-3  1 -9]\n",
      " [11  6  5]\n",
      " [ 5 -1 -9]]\n",
      "absolute values of matrix\n",
      "[[ 3  1  9]\n",
      " [11  6  5]\n",
      " [ 5  1  9]]\n"
     ]
    }
   ],
   "source": [
    "# converting the matrix into absolute values\n",
    "arr = np.array([rn.randint(-10,11) for i in range(9)]).reshape(3,3)\n",
    "print('matrix')\n",
    "print(arr)\n",
    "arr1 = np.abs(arr)\n",
    "print('absolute values of matrix')\n",
    "print(arr1)"
   ]
  },
  {
   "cell_type": "code",
   "execution_count": 48,
   "id": "c2be434d",
   "metadata": {},
   "outputs": [
    {
     "name": "stdout",
     "output_type": "stream",
     "text": [
      "negative of matrix is\n",
      "[[  3  -1   9]\n",
      " [-11  -6  -5]\n",
      " [ -5   1   9]]\n"
     ]
    }
   ],
   "source": [
    "# taking negative of matrix values\n",
    "arr2 = np.negative(arr)\n",
    "print('negative of matrix is')\n",
    "print(arr2)"
   ]
  },
  {
   "cell_type": "code",
   "execution_count": 49,
   "id": "1335e44e",
   "metadata": {},
   "outputs": [
    {
     "name": "stdout",
     "output_type": "stream",
     "text": [
      "maxmimum element\n",
      "in a matrix\n",
      "11\n",
      "row-wise\n",
      "[11  6  5]\n",
      "column-wise\n",
      "[ 1 11  5]\n"
     ]
    }
   ],
   "source": [
    "# maxmimum element\n",
    "# in a matrix\n",
    "print(\"maxmimum element\")\n",
    "print('in a matrix')\n",
    "print(np.max(arr))\n",
    "# row-wisw\n",
    "print('row-wise')\n",
    "print(np.max(arr,axis=0))\n",
    "# column-wise\n",
    "print('column-wise')\n",
    "print(np.max(arr,axis=1))"
   ]
  },
  {
   "cell_type": "code",
   "execution_count": 50,
   "id": "10fd10c6",
   "metadata": {},
   "outputs": [
    {
     "name": "stdout",
     "output_type": "stream",
     "text": [
      "minimum element\n",
      "in a matrix\n",
      "-9\n",
      "row-wise\n",
      "[-3 -1 -9]\n",
      "column-wise\n",
      "[-9  5 -9]\n"
     ]
    }
   ],
   "source": [
    "# minimum element\n",
    "# in a matrix\n",
    "print(\"minimum element\")\n",
    "print('in a matrix')\n",
    "print(np.min(arr))\n",
    "# row-wisw\n",
    "print('row-wise')\n",
    "print(np.min(arr,axis=0))\n",
    "# column-wise\n",
    "print('column-wise')\n",
    "print(np.min(arr,axis=1))"
   ]
  },
  {
   "cell_type": "code",
   "execution_count": 58,
   "id": "4fa903b2",
   "metadata": {},
   "outputs": [
    {
     "name": "stdout",
     "output_type": "stream",
     "text": [
      "element sum of all the elements of a matrix\n",
      "6\n",
      "element sum of some of the elements of a matrix\n",
      "7\n"
     ]
    }
   ],
   "source": [
    "# element sum of a matrix\n",
    "# all the elements\n",
    "print('element sum of all the elements of a matrix')\n",
    "print(np.sum(arr))\n",
    "# some of the elements\n",
    "print('element sum of some of the elements of a matrix')\n",
    "print(np.sum(arr[0:2,1:2]))"
   ]
  },
  {
   "cell_type": "code",
   "execution_count": 66,
   "id": "023dd8c5",
   "metadata": {},
   "outputs": [
    {
     "name": "stdout",
     "output_type": "stream",
     "text": [
      "[[-3  1 -9]\n",
      " [11  6  5]]\n",
      "[[-3  1]\n",
      " [11  6]]\n"
     ]
    }
   ],
   "source": [
    "# deleting rows and columns of a matrix\n",
    "# deleting 3rd row \n",
    "arr3 = np.delete(arr,2,0)\n",
    "print(arr3)\n",
    "# deleting 3rd column\n",
    "arr4 = np.delete(arr3,2,1)\n",
    "print(arr4)"
   ]
  },
  {
   "cell_type": "code",
   "execution_count": 76,
   "id": "5de72533",
   "metadata": {},
   "outputs": [
    {
     "name": "stdout",
     "output_type": "stream",
     "text": [
      "[[-3  1]\n",
      " [11  6]\n",
      " [ 2  3]]\n",
      "[[-3  1  4]\n",
      " [11  6 -3]\n",
      " [ 2  3  1]]\n"
     ]
    }
   ],
   "source": [
    "# adding rows and columns of a matrix\n",
    "# adding row \n",
    "arr5 = np.vstack((arr4,np.array([2,3])))\n",
    "print(arr5)\n",
    "# adding column\n",
    "arr6 = np.append(arr5,np.array([4,-3,1]).reshape(3,1),axis=1)\n",
    "print(arr6)"
   ]
  },
  {
   "cell_type": "markdown",
   "id": "0865a1e4",
   "metadata": {},
   "source": [
    "### Sets"
   ]
  },
  {
   "cell_type": "code",
   "execution_count": 95,
   "id": "0a7c6fae",
   "metadata": {},
   "outputs": [
    {
     "name": "stdout",
     "output_type": "stream",
     "text": [
      "{'banana', 'apple', 'cherry'}\n"
     ]
    }
   ],
   "source": [
    "# Create a set\n",
    "thisset = {\"apple\", \"banana\",\"cherry\",}\n",
    "print(thisset) "
   ]
  },
  {
   "cell_type": "code",
   "execution_count": 96,
   "id": "8fa6e621",
   "metadata": {},
   "outputs": [
    {
     "name": "stdout",
     "output_type": "stream",
     "text": [
      "{'orange', 'banana', 'apple', 'cherry'}\n",
      "{'orange', 'banana', 'peach', 'mango', 'apple', 'cherry'}\n"
     ]
    }
   ],
   "source": [
    "# Add  member(s) in the set\n",
    "# add single element\n",
    "thisset.add(\"orange\") \n",
    "print(thisset)\n",
    "# add multiple element\n",
    "thisset.update([\"peach\",\"mango\"]) \n",
    "print(thisset)"
   ]
  },
  {
   "cell_type": "code",
   "execution_count": 97,
   "id": "6e82dd8b",
   "metadata": {},
   "outputs": [
    {
     "name": "stdout",
     "output_type": "stream",
     "text": [
      "{'banana', 'peach', 'mango', 'apple', 'cherry'}\n",
      "{'banana', 'peach', 'apple', 'cherry'}\n"
     ]
    }
   ],
   "source": [
    "# delete item(s) from set\n",
    "# using discard\n",
    "thisset.discard(\"orange\")\n",
    "print(thisset)\n",
    "# using remove\n",
    "thisset.remove(\"mango\")\n",
    "print(thisset)"
   ]
  },
  {
   "cell_type": "code",
   "execution_count": 98,
   "id": "4061626f",
   "metadata": {},
   "outputs": [
    {
     "name": "stdout",
     "output_type": "stream",
     "text": [
      "{'peach', 'apple', 'cherry'}\n"
     ]
    }
   ],
   "source": [
    "# delete an item from a set if it is present in the set.\n",
    "# to check if an item is present in the set\n",
    "if(\"banana\" in thisset):\n",
    "    thisset.discard(\"banana\")\n",
    "    print(thisset)\n",
    "else:\n",
    "    print(\"It cannot be discarded.\")"
   ]
  },
  {
   "cell_type": "code",
   "execution_count": 99,
   "id": "0738be8b",
   "metadata": {},
   "outputs": [
    {
     "name": "stdout",
     "output_type": "stream",
     "text": [
      "peach\n",
      "{'apple', 'cherry'}\n"
     ]
    }
   ],
   "source": [
    "# Remove the last item by using the pop() \n",
    "X=thisset.pop()\n",
    "print(X)\n",
    "print(thisset)"
   ]
  },
  {
   "cell_type": "code",
   "execution_count": 100,
   "id": "fca350c4",
   "metadata": {},
   "outputs": [
    {
     "name": "stdout",
     "output_type": "stream",
     "text": [
      "set()\n"
     ]
    }
   ],
   "source": [
    "# clear the set\n",
    "thisset.clear()\n",
    "print(thisset)"
   ]
  },
  {
   "cell_type": "code",
   "execution_count": 101,
   "id": "5effb64c",
   "metadata": {},
   "outputs": [],
   "source": [
    "# delete a set object using del keyword\n",
    "del thisset\n",
    "# print(thisset)\n",
    "# This will give the error if you try to print the set object\n",
    "# ---------------------------------------------------------------------------\n",
    "# NameError                                 Traceback (most recent call last)\n",
    "# C:\\Users\\SHAINA~1\\AppData\\Local\\Temp/ipykernel_12880/1209023853.py in <module>\n",
    "#      1 #delete a set\n",
    "#      2 del thisset\n",
    "# ----> 3 print(thisset)\n",
    "\n",
    "# NameError: name 'thisset' is not defined"
   ]
  },
  {
   "cell_type": "markdown",
   "id": "be0ecf0f",
   "metadata": {},
   "source": [
    "### Graphs"
   ]
  },
  {
   "cell_type": "code",
   "execution_count": 106,
   "id": "11fd5631",
   "metadata": {},
   "outputs": [
    {
     "data": {
      "image/png": "[encoded data removed]",
      "text/plain": [
       "<Figure size 432x288 with 1 Axes>"
      ]
     },
     "metadata": {
      "needs_background": "light"
     },
     "output_type": "display_data"
    }
   ],
   "source": [
    "# Basic Plot\n",
    "import matplotlib.pyplot as plt\n",
    "x = [rn.randint(-20,20) for i in range(10)]\n",
    "y = [rn.randint(-20,20) for i in range(10)]\n",
    "plt.plot(x,y)\n",
    "plt.xlabel('x - axis')\n",
    "plt.ylabel('y - axis')\n",
    "plt.title('Basic Plot')\n",
    "plt.show()"
   ]
  },
  {
   "cell_type": "code",
   "execution_count": 113,
   "id": "f0a4f8eb",
   "metadata": {},
   "outputs": [
    {
     "data": {
      "image/png": "[encoded data removed]",
      "text/plain": [
       "<Figure size 432x288 with 1 Axes>"
      ]
     },
     "metadata": {
      "needs_background": "light"
     },
     "output_type": "display_data"
    }
   ],
   "source": [
    "# Bar Graph\n",
    "city = ['Delhi','Mumbai','Chennai','Kolkata']\n",
    "AQI = [345,123,83,230]\n",
    "x_pos = [i for i, _ in enumerate(city)]\n",
    "plt.bar(x_pos,AQI,color='violet')\n",
    "plt.xticks(x_pos, city)\n",
    "plt.xlabel('Cities')\n",
    "plt.ylabel('PM 2.5 Level')\n",
    "plt.title('Air Quality Index')\n",
    "plt.show()"
   ]
  },
  {
   "cell_type": "markdown",
   "id": "6792da01",
   "metadata": {},
   "source": [
    "## Conclusion: Intermediate python programs has been done successfully."
   ]
  }
 ],
 "metadata": {
  "kernelspec": {
   "display_name": "Python 3 (ipykernel)",
   "language": "python",
   "name": "python3"
  },
  "language_info": {
   "codemirror_mode": {
    "name": "ipython",
    "version": 3
   },
   "file_extension": ".py",
   "mimetype": "text/x-python",
   "name": "python",
   "nbconvert_exporter": "python",
   "pygments_lexer": "ipython3",
   "version": "3.9.7"
  }
 },
 "nbformat": 4,
 "nbformat_minor": 5
}
