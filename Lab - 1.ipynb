{
 "cells": [
  {
   "cell_type": "markdown",
   "id": "2cdec5b8",
   "metadata": {},
   "source": [
    "# Experiment 1\n",
    "## Aim: Basic Python Programs\n",
    "## Software Used: Jupyter Notebook\n",
    "## Code and Output:"
   ]
  },
  {
   "cell_type": "markdown",
   "id": "bdc98594",
   "metadata": {},
   "source": [
    "### Arithmatic Operators and Lists"
   ]
  },
  {
   "cell_type": "code",
   "execution_count": 6,
   "id": "23b1ef02",
   "metadata": {},
   "outputs": [
    {
     "name": "stdout",
     "output_type": "stream",
     "text": [
      "datatype of x is: <class 'int'>\n",
      "value of x is: 5\n",
      "datatype of x is: <class 'str'>\n",
      "value of x is: Shaina\n",
      "datatype of x is: <class 'str'>\n",
      "value of x is: c\n",
      "datatype of x is: <class 'bool'>\n",
      "value of x is: True\n",
      "datatype of x is: <class 'float'>\n",
      "value of x is: 77.034\n",
      "datatype of x is: <class 'bytes'>\n",
      "value of x is: b'Shaina'\n",
      "datatype of x is: <class 'list'>\n",
      "value of x is: [23, 'Mona', 77.5]\n",
      "datatype of x is: <class 'tuple'>\n",
      "value of x is: (23, 'Mona', 77.5)\n",
      "datatype of x is: <class 'set'>\n",
      "value of x is: {'Mona', 77.5, 23}\n",
      "datatype of x is: <class 'dict'>\n",
      "value of x is: {'a': 12, 'b': 34}\n",
      "datatype of x is: <class 'numpy.ndarray'>\n",
      "value of x is: [2 3 5 4]\n"
     ]
    }
   ],
   "source": [
    "import numpy as np\n",
    "# type(X) function\n",
    "x = 5\n",
    "print('datatype of x is:',type(x))\n",
    "print('value of x is:',x)\n",
    "x = \"Shaina\"\n",
    "print('datatype of x is:',type(x))\n",
    "print('value of x is:',x)\n",
    "x = 'c'\n",
    "print('datatype of x is:',type(x))\n",
    "print('value of x is:',x)\n",
    "x = True\n",
    "print('datatype of x is:',type(x))\n",
    "print('value of x is:',x)\n",
    "x = 77.034\n",
    "print('datatype of x is:',type(x))\n",
    "print('value of x is:',x)\n",
    "x = b'Shaina'\n",
    "print('datatype of x is:',type(x))\n",
    "print('value of x is:',x)\n",
    "x = [23,'Mona',77.5]\n",
    "print('datatype of x is:',type(x))\n",
    "print('value of x is:',x)\n",
    "x = (23,'Mona',77.5)\n",
    "print('datatype of x is:',type(x))\n",
    "print('value of x is:',x)\n",
    "x = {23,'Mona',77.5}\n",
    "print('datatype of x is:',type(x))\n",
    "print('value of x is:',x)\n",
    "x = {\"a\":12,\"b\":34}\n",
    "print('datatype of x is:',type(x))\n",
    "print('value of x is:',x)\n",
    "x = np.array([2,3,5,4])\n",
    "print('datatype of x is:',type(x))\n",
    "print('value of x is:',x)"
   ]
  },
  {
   "cell_type": "code",
   "execution_count": 7,
   "id": "15506393",
   "metadata": {},
   "outputs": [
    {
     "name": "stdout",
     "output_type": "stream",
     "text": [
      "3\n",
      "True\n"
     ]
    }
   ],
   "source": [
    "# Floor Divison\n",
    "x = 123\n",
    "y = 34\n",
    "print(x//y)"
   ]
  },
  {
   "cell_type": "code",
   "execution_count": 8,
   "id": "035f88e0",
   "metadata": {},
   "outputs": [
    {
     "name": "stdout",
     "output_type": "stream",
     "text": [
      "True\n"
     ]
    }
   ],
   "source": [
    "# Using OR Operator\n",
    "a = 30\n",
    "b = 2\n",
    "print((a%2)==0 or (b%2)==0)"
   ]
  },
  {
   "cell_type": "code",
   "execution_count": 14,
   "id": "001cba2c",
   "metadata": {},
   "outputs": [
    {
     "name": "stdout",
     "output_type": "stream",
     "text": [
      "[23, 78, 56, 19]\n",
      "[23, 78, 56]\n",
      "[]\n"
     ]
    }
   ],
   "source": [
    "# Slicing\n",
    "L = [23,45,23,78,56,19]\n",
    "print(L[2:6])\n",
    "print(L[-4:-1])\n",
    "print(L[-2:0])"
   ]
  },
  {
   "cell_type": "code",
   "execution_count": 22,
   "id": "ecb1a9f9",
   "metadata": {},
   "outputs": [
    {
     "name": "stdout",
     "output_type": "stream",
     "text": [
      "214\n"
     ]
    }
   ],
   "source": [
    "# Write a Python program to sum all the items in a list\n",
    "import functools as f\n",
    "l = [23,45,12,56,78]\n",
    "add = f.reduce(lambda a,b: a+b,l)\n",
    "print(add)"
   ]
  },
  {
   "cell_type": "code",
   "execution_count": 23,
   "id": "e38f9830",
   "metadata": {},
   "outputs": [
    {
     "name": "stdout",
     "output_type": "stream",
     "text": [
      "78\n"
     ]
    }
   ],
   "source": [
    "# Python program to find largest number in a list \n",
    "maximum = max(l)\n",
    "print(maximum)"
   ]
  },
  {
   "cell_type": "code",
   "execution_count": 24,
   "id": "eda58cce",
   "metadata": {},
   "outputs": [
    {
     "name": "stdout",
     "output_type": "stream",
     "text": [
      "12\n"
     ]
    }
   ],
   "source": [
    "# Python program to find smallest number in a list \n",
    "minimum = min(l)\n",
    "print(minimum)"
   ]
  },
  {
   "cell_type": "code",
   "execution_count": 30,
   "id": "b880cc8f",
   "metadata": {},
   "outputs": [
    {
     "name": "stdout",
     "output_type": "stream",
     "text": [
      "54250560\n"
     ]
    }
   ],
   "source": [
    "# Write a Python program to multiplies all the items in a list\n",
    "mul = f.reduce(lambda a,b: a*b,l)\n",
    "print(mul)"
   ]
  },
  {
   "cell_type": "markdown",
   "id": "bce5ceba",
   "metadata": {},
   "source": [
    "### Loops"
   ]
  },
  {
   "cell_type": "code",
   "execution_count": 31,
   "id": "9823e286",
   "metadata": {},
   "outputs": [
    {
     "name": "stdout",
     "output_type": "stream",
     "text": [
      "2\n",
      "4\n",
      "8\n",
      "16\n",
      "32\n",
      "64\n",
      "128\n",
      "256\n"
     ]
    }
   ],
   "source": [
    "# while loop\n",
    "number = 1\n",
    "while(number<200):\n",
    "    number = number*2\n",
    "    print(number)"
   ]
  },
  {
   "cell_type": "code",
   "execution_count": 32,
   "id": "1609c064",
   "metadata": {},
   "outputs": [
    {
     "name": "stdout",
     "output_type": "stream",
     "text": [
      "5\n",
      "4\n",
      "3\n",
      "2\n",
      "1\n",
      "Blastoff!\n"
     ]
    }
   ],
   "source": [
    "# for loop\n",
    "for x in range(5,0,-1):\n",
    "    print(x)\n",
    "print('Blastoff!')"
   ]
  },
  {
   "cell_type": "markdown",
   "id": "95ec3b01",
   "metadata": {},
   "source": [
    "### Dictionaries"
   ]
  },
  {
   "cell_type": "code",
   "execution_count": 47,
   "id": "82da8365",
   "metadata": {},
   "outputs": [
    {
     "name": "stdout",
     "output_type": "stream",
     "text": [
      "{'brand': 'Ford', 'model': 'Mustang', 'year': 1964}\n"
     ]
    }
   ],
   "source": [
    "# Create a dictionary\n",
    "di = {\n",
    "    \"brand\": \"Ford\",\n",
    "  \"model\": \"Mustang\",\n",
    "  \"year\": 1964\n",
    "}\n",
    "print(di)"
   ]
  },
  {
   "cell_type": "code",
   "execution_count": 48,
   "id": "6483ad2a",
   "metadata": {},
   "outputs": [
    {
     "name": "stdout",
     "output_type": "stream",
     "text": [
      "Ford\n",
      "Ford\n"
     ]
    }
   ],
   "source": [
    "# Accessing elements\n",
    "# get the value of the model key\n",
    "x = di.get('brand')\n",
    "print(x)\n",
    "# another Method\n",
    "x = di['brand']\n",
    "print(x)"
   ]
  },
  {
   "cell_type": "code",
   "execution_count": 49,
   "id": "918efc09",
   "metadata": {},
   "outputs": [
    {
     "name": "stdout",
     "output_type": "stream",
     "text": [
      "{'brand': 'Ford', 'model': 'Mustang', 'year': 2018}\n"
     ]
    }
   ],
   "source": [
    "# Change Values of a specific item by referring to its key name\n",
    "di['year'] = 2018\n",
    "print(di)"
   ]
  },
  {
   "cell_type": "code",
   "execution_count": 50,
   "id": "d28bd188",
   "metadata": {},
   "outputs": [
    {
     "name": "stdout",
     "output_type": "stream",
     "text": [
      "3\n"
     ]
    }
   ],
   "source": [
    "# Dictionart length using len() function\n",
    "print(len(di))"
   ]
  },
  {
   "cell_type": "code",
   "execution_count": 51,
   "id": "bd1e7380",
   "metadata": {},
   "outputs": [
    {
     "name": "stdout",
     "output_type": "stream",
     "text": [
      "Yes\n",
      "{'brand': 'Ford', 'model': 'Mustang'}\n"
     ]
    }
   ],
   "source": [
    "#remove an item from a dictionary if it is present.\n",
    "# check if item is present \n",
    "if('year' in di):\n",
    "    print('Yes')\n",
    "    # removing item using pop()\n",
    "    di.pop('year')\n",
    "    print(di)\n",
    "else: \n",
    "    print('No. Key and item cannot be deleted')"
   ]
  },
  {
   "cell_type": "code",
   "execution_count": 52,
   "id": "3e9d69fc",
   "metadata": {},
   "outputs": [
    {
     "name": "stdout",
     "output_type": "stream",
     "text": [
      "{'brand': 'Ford', 'model': 'Mustang', 'year': 2018}\n",
      "{'brand': 'Ford', 'model': 'Mustang', 'year': 2018, 'color': 'red'}\n"
     ]
    }
   ],
   "source": [
    "# Add a key to a dictionary.\n",
    "di['year'] = 2018\n",
    "print(di)\n",
    "# using update method\n",
    "di.update({'color':'red'})\n",
    "print(di)"
   ]
  },
  {
   "cell_type": "code",
   "execution_count": 53,
   "id": "9200581c",
   "metadata": {},
   "outputs": [
    {
     "name": "stdout",
     "output_type": "stream",
     "text": [
      "dict_items([('brand', 'Ford'), ('model', 'Mustang'), ('year', 2018), ('color', 'red')])\n",
      "dict_keys(['brand', 'model', 'year', 'color'])\n",
      "dict_values(['Ford', 'Mustang', 2018, 'red'])\n"
     ]
    }
   ],
   "source": [
    "# getting the values and the keys of the dictionary\n",
    "print(di.items())\n",
    "print(di.keys())\n",
    "print(di.values())"
   ]
  },
  {
   "cell_type": "code",
   "execution_count": 54,
   "id": "2cb780f2",
   "metadata": {},
   "outputs": [
    {
     "name": "stdout",
     "output_type": "stream",
     "text": [
      "{}\n"
     ]
    }
   ],
   "source": [
    "# clearing the items of the dictionary\n",
    "di.clear()\n",
    "print(di)"
   ]
  },
  {
   "cell_type": "code",
   "execution_count": 55,
   "id": "2aa86c32",
   "metadata": {},
   "outputs": [],
   "source": [
    "# del method to delete\n",
    "del di\n",
    "#print(di)\n",
    "# This will give an error which is as follows: \n",
    "#---------------------------------------------------------------------------\n",
    "#NameError                                 Traceback (most recent call last)\n",
    "#C:\\Users\\SHAINA~1\\AppData\\Local\\Temp/ipykernel_16192/3110200438.py in <module>\n",
    "#      1 # del method to delete\n",
    "#      2 del di\n",
    "#----> 3 print(di)\n",
    "\n",
    "# NameError: name 'di' is not defined"
   ]
  },
  {
   "cell_type": "code",
   "execution_count": 56,
   "id": "7d5af0a5",
   "metadata": {},
   "outputs": [
    {
     "name": "stdout",
     "output_type": "stream",
     "text": [
      "dictionaries before updating\n",
      "{'a': 10, 'b': 20}\n",
      "{'c': 30, 'd': 40}\n",
      "dictionaries after updating\n",
      "{'a': 10, 'b': 20}\n",
      "{'c': 30, 'd': 40, 'a': 10, 'b': 20}\n"
     ]
    }
   ],
   "source": [
    "# merging two dictionaries\n",
    "di1 = {'a':10,'b':20}\n",
    "di2 = {'c':30,'d':40}\n",
    "print('dictionaries before updating')\n",
    "print(di1)\n",
    "print(di2)\n",
    "di2.update(di1)\n",
    "print('dictionaries after updating')\n",
    "print(di1)\n",
    "print(di2)"
   ]
  },
  {
   "cell_type": "markdown",
   "id": "792865e9",
   "metadata": {},
   "source": [
    "## Conclusion: Basic python programs has been done successfully."
   ]
  }
 ],
 "metadata": {
  "kernelspec": {
   "display_name": "Python 3 (ipykernel)",
   "language": "python",
   "name": "python3"
  },
  "language_info": {
   "codemirror_mode": {
    "name": "ipython",
    "version": 3
   },
   "file_extension": ".py",
   "mimetype": "text/x-python",
   "name": "python",
   "nbconvert_exporter": "python",
   "pygments_lexer": "ipython3",
   "version": "3.8.12"
  }
 },
 "nbformat": 4,
 "nbformat_minor": 5
}
