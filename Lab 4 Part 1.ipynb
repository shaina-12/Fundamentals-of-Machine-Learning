{
 "cells": [
  {
   "cell_type": "markdown",
   "id": "4aadedb4",
   "metadata": {},
   "source": [
    "# Experiment 4"
   ]
  },
  {
   "cell_type": "code",
   "execution_count": 1,
   "id": "857897f8",
   "metadata": {},
   "outputs": [],
   "source": [
    "import numpy as np\n",
    "import pandas as pd\n",
    "import seaborn as sns\n",
    "import matplotlib.pyplot as plt\n",
    "%matplotlib inline"
   ]
  },
  {
   "cell_type": "code",
   "execution_count": 2,
   "id": "c99c8a9e",
   "metadata": {},
   "outputs": [
    {
     "data": {
      "text/html": [
       "<div>\n",
       "<style scoped>\n",
       "    .dataframe tbody tr th:only-of-type {\n",
       "        vertical-align: middle;\n",
       "    }\n",
       "\n",
       "    .dataframe tbody tr th {\n",
       "        vertical-align: top;\n",
       "    }\n",
       "\n",
       "    .dataframe thead th {\n",
       "        text-align: right;\n",
       "    }\n",
       "</style>\n",
       "<table border=\"1\" class=\"dataframe\">\n",
       "  <thead>\n",
       "    <tr style=\"text-align: right;\">\n",
       "      <th></th>\n",
       "      <th>YearsExperience</th>\n",
       "      <th>Salary</th>\n",
       "    </tr>\n",
       "  </thead>\n",
       "  <tbody>\n",
       "    <tr>\n",
       "      <th>0</th>\n",
       "      <td>1.1</td>\n",
       "      <td>39343.0</td>\n",
       "    </tr>\n",
       "    <tr>\n",
       "      <th>1</th>\n",
       "      <td>1.3</td>\n",
       "      <td>46205.0</td>\n",
       "    </tr>\n",
       "    <tr>\n",
       "      <th>2</th>\n",
       "      <td>1.5</td>\n",
       "      <td>37731.0</td>\n",
       "    </tr>\n",
       "    <tr>\n",
       "      <th>3</th>\n",
       "      <td>2.0</td>\n",
       "      <td>43525.0</td>\n",
       "    </tr>\n",
       "    <tr>\n",
       "      <th>4</th>\n",
       "      <td>2.2</td>\n",
       "      <td>39891.0</td>\n",
       "    </tr>\n",
       "  </tbody>\n",
       "</table>\n",
       "</div>"
      ],
      "text/plain": [
       "   YearsExperience   Salary\n",
       "0              1.1  39343.0\n",
       "1              1.3  46205.0\n",
       "2              1.5  37731.0\n",
       "3              2.0  43525.0\n",
       "4              2.2  39891.0"
      ]
     },
     "execution_count": 2,
     "metadata": {},
     "output_type": "execute_result"
    }
   ],
   "source": [
    "salary = pd.read_csv('Salary_Data.csv')\n",
    "salary.head()"
   ]
  },
  {
   "cell_type": "code",
   "execution_count": 3,
   "id": "324bb75d",
   "metadata": {},
   "outputs": [
    {
     "data": {
      "image/png": "[encoded data removed]",
      "text/plain": [
       "<Figure size 432x288 with 1 Axes>"
      ]
     },
     "metadata": {
      "needs_background": "light"
     },
     "output_type": "display_data"
    }
   ],
   "source": [
    "#data visualization plus predicting values\n",
    "x = salary['YearsExperience'] # independent variable (years of experience)\n",
    "y = salary['Salary'] # dependent variable (salary)\n",
    "meanX = np.mean(x)\n",
    "meanY = np.mean(y)\n",
    "n = len(x)\n",
    "num = 0 \n",
    "den = 0\n",
    "for i in range(n):\n",
    "    num = num + ((x[i]-meanX)*(y[i]-meanY)) \n",
    "    den = den + (x[i]-meanX)**2\n",
    "b1 = num/den # slope\n",
    "b0 = meanY - (b1*meanX) # intercept\n",
    "maxX = np.max(x) \n",
    "minX = np.min(x) \n",
    "x1 = np.linspace(minX,maxX,30)\n",
    "y1 = b0 + b1*x1\n",
    "#plt.rcParams['figure.figsize']=(20.0,10.0)\n",
    "'''\n",
    "plt.plot(x1,y1,color='Violet',label='Regression Line')\n",
    "plt.scatter(x,y,c='Green',label='Scatter Plot')\n",
    "'''\n",
    "plt.plot(x1,y1,color='Green',label='Regression Line')\n",
    "plt.scatter(x,y,color='Violet',label='Scatter Plot')\n",
    "plt.xlabel('Years of Experience')\n",
    "plt.ylabel('Salary')\n",
    "plt.legend()\n",
    "plt.show()"
   ]
  },
  {
   "cell_type": "code",
   "execution_count": 4,
   "id": "9e41d553",
   "metadata": {},
   "outputs": [
    {
     "name": "stdout",
     "output_type": "stream",
     "text": [
      "slope 9449.962321455077\n",
      "intercepts 25792.20019866869\n",
      "predicted values [ 36187.15875227  39250.2499875   42313.34122273  45376.43245796\n",
      "  48439.52369319  51502.61492842  54565.70616365  57628.79739888\n",
      "  60691.88863411  63754.97986934  66818.07110457  69881.1623398\n",
      "  72944.25357503  76007.34481026  79070.43604549  82133.52728072\n",
      "  85196.61851595  88259.70975118  91322.80098641  94385.89222164\n",
      "  97448.98345687 100512.0746921  103575.16592734 106638.25716257\n",
      " 109701.3483978  112764.43963303 115827.53086826 118890.62210349\n",
      " 121953.71333872 125016.80457395]\n"
     ]
    }
   ],
   "source": [
    "# slope and intercepts\n",
    "print('slope',b1)\n",
    "print('intercepts',b0)\n",
    "# predicted values\n",
    "print('predicted values',y1)"
   ]
  },
  {
   "cell_type": "code",
   "execution_count": 5,
   "id": "c299d84c",
   "metadata": {},
   "outputs": [
    {
     "name": "stdout",
     "output_type": "stream",
     "text": [
      "mean square error 77333376.83746204\n"
     ]
    }
   ],
   "source": [
    "# calculation of MSE\n",
    "error = []\n",
    "for i in range(n):\n",
    "    error.append(((y[i]-y1[i])**2))\n",
    "mse = np.sum(error)/n\n",
    "print('mean square error',mse)"
   ]
  },
  {
   "cell_type": "code",
   "execution_count": 6,
   "id": "fc122990",
   "metadata": {},
   "outputs": [
    {
     "name": "stdout",
     "output_type": "stream",
     "text": [
      "999 7.868600000000001 8.655460000000001\n",
      "999 24.974375860400002 29.319248618520003\n",
      "999 49.612561071042364 61.28165126240356\n",
      "999 82.92131110896557 110.58518356084878\n",
      "999 124.1430194039002 177.29722402471913\n",
      "999 176.5654667050197 276.4914076065257\n",
      "999 240.81670606823428 411.17196737461745\n",
      "999 315.6456320311155 579.7011242616423\n",
      "999 402.929420148063 788.0858400416795\n",
      "999 500.9872388593501 1036.334469020773\n",
      "999 610.7801192370291 1330.349838498795\n",
      "999 730.5453637200617 1664.2546643982312\n",
      "999 860.2244953988317 2037.815039080617\n",
      "999 999.4767738464758 2450.625315515387\n",
      "999 1148.5457941553868 2907.610930325857\n",
      "999 1308.1232465937474 3416.087862570631\n",
      "999 1477.160464762967 3972.8096000427863\n",
      "999 1658.3086726631886 4593.719583089252\n",
      "999 1849.9772297208324 5276.699626164509\n",
      "999 2053.731751781135 6032.195459255716\n",
      "999 2267.219341666493 6853.876153557304\n",
      "999 2490.175583545467 7742.78427701356\n",
      "999 2720.66059115005 8691.169649702131\n",
      "999 2959.1103484108917 9704.865969572022\n",
      "999 3201.9680168149957 10756.911116388297\n",
      "999 3445.939251606238 11818.978360688814\n",
      "999 3690.1590396618503 12883.406861000847\n",
      "999 3931.4316547364083 13919.54250069476\n",
      "999 4167.721925928588 14904.359998400178\n",
      "999 4396.253896738941 15807.715342096419\n"
     ]
    }
   ],
   "source": [
    "# Using Gradient Descent \n",
    "# initialize the parameters\n",
    "a0 = 0\n",
    "a1 = 0\n",
    "lr = 0.0001\n",
    "iterations = 1000\n",
    "error = []\n",
    "# calculation of random error\n",
    "for itr in range(iterations):\n",
    "    error_cost = 0\n",
    "    cost_a0 = 0\n",
    "    cost_a1 = 0\n",
    "    for i in range(n):\n",
    "        y_pred = a0 + (a1*x[i])\n",
    "        error_cost = error_cost + (y[i] - y_pred)\n",
    "for j in range(n):\n",
    "    partial_wrt_a0 = -2 *(y[j] - (a0 + a1*x[j])) #partial derivative w.r.t a0\n",
    "    partial_wrt_a1 = (-2*x[j])*(y[j]-(a0 + a1*x[j])) #partial derivative w.r.t a1\n",
    "    cost_a0 = cost_a0 + partial_wrt_a0 #calculate cost for each number and add\n",
    "    cost_a1 = cost_a1 + partial_wrt_a1 #calculate cost for each number and add\n",
    "    a0 = a0 - lr * cost_a0 #update a0\n",
    "    a1 = a1 - lr * cost_a1 #update a1\n",
    "    print(itr,a0,a1) #Check iteration and updated a0 and a1\n",
    "    error.append(error_cost) #Append the data in array"
   ]
  },
  {
   "cell_type": "code",
   "execution_count": 7,
   "id": "91ade69f",
   "metadata": {},
   "outputs": [
    {
     "name": "stdout",
     "output_type": "stream",
     "text": [
      "4396.253896738941\n",
      "15807.715342096419\n"
     ]
    }
   ],
   "source": [
    "#At approximate iteration 50- 60, we got the value of a0 and a1.\n",
    "print(a0)\n",
    "print(a1)"
   ]
  },
  {
   "cell_type": "code",
   "execution_count": 8,
   "id": "95208c20",
   "metadata": {},
   "outputs": [
    {
     "data": {
      "text/plain": [
       "Text(0, 0.5, 'Error')"
      ]
     },
     "execution_count": 8,
     "metadata": {},
     "output_type": "execute_result"
    },
    {
     "data": {
      "image/png": "[encoded data removed]",
      "text/plain": [
       "<Figure size 720x360 with 1 Axes>"
      ]
     },
     "metadata": {
      "needs_background": "light"
     },
     "output_type": "display_data"
    }
   ],
   "source": [
    "#Plotting the error for each iteration.\n",
    "plt.figure(figsize=(10,5))\n",
    "plt.plot(np.arange(1,len(error)+1),error,color='red',linewidth = 5)\n",
    "plt.title(\"Iteration vr error\")\n",
    "plt.xlabel(\"iterations\")\n",
    "plt.ylabel(\"Error\")"
   ]
  },
  {
   "cell_type": "code",
   "execution_count": 9,
   "id": "03af29a9",
   "metadata": {},
   "outputs": [
    {
     "name": "stdout",
     "output_type": "stream",
     "text": [
      "0      21784.740773\n",
      "1      24946.283841\n",
      "2      28107.826910\n",
      "3      36011.684581\n",
      "4      39173.227649\n",
      "5      50238.628389\n",
      "6      51819.399923\n",
      "7      54980.942991\n",
      "8      54980.942991\n",
      "9      62884.800662\n",
      "10     66046.343731\n",
      "11     67627.115265\n",
      "12     67627.115265\n",
      "13     69207.886799\n",
      "14     75530.972936\n",
      "15     81854.059073\n",
      "16     85015.602141\n",
      "17     88177.145210\n",
      "18     97661.774415\n",
      "19     99242.545949\n",
      "20    111888.718223\n",
      "21    116631.032826\n",
      "22    129277.205099\n",
      "23    134019.519702\n",
      "24    141923.377373\n",
      "25    146665.691976\n",
      "26    154569.549647\n",
      "27    156150.321181\n",
      "28    167215.721920\n",
      "29    170377.264989\n",
      "Name: YearsExperience, dtype: float64\n"
     ]
    },
    {
     "data": {
      "text/plain": [
       "Text(0, 0.5, 'salary')"
      ]
     },
     "execution_count": 9,
     "metadata": {},
     "output_type": "execute_result"
    },
    {
     "data": {
      "image/png": "[encoded data removed]",
      "text/plain": [
       "<Figure size 432x288 with 1 Axes>"
      ]
     },
     "metadata": {
      "needs_background": "light"
     },
     "output_type": "display_data"
    }
   ],
   "source": [
    "#Predicting the values.\n",
    "pred = a0+a1*x\n",
    "print(pred)\n",
    "plt.scatter(x,y,color = 'violet')\n",
    "plt.plot(x,pred, color = 'green')\n",
    "plt.xlabel(\"experience\")\n",
    "plt.ylabel(\"salary\")"
   ]
  },
  {
   "cell_type": "code",
   "execution_count": 10,
   "id": "fc4ff719",
   "metadata": {},
   "outputs": [
    {
     "name": "stdout",
     "output_type": "stream",
     "text": [
      "mean squared error is 0                  0.0\n",
      "1                  0.0\n",
      "2                  0.0\n",
      "3                  0.0\n",
      "4                  0.0\n",
      "5                  0.0\n",
      "6                  0.0\n",
      "7                  0.0\n",
      "8                  0.0\n",
      "9                  0.0\n",
      "10                 0.0\n",
      "11                 0.0\n",
      "12                 0.0\n",
      "13                 0.0\n",
      "14                 0.0\n",
      "15                 0.0\n",
      "16                 0.0\n",
      "17                 0.0\n",
      "18                 0.0\n",
      "19                 0.0\n",
      "20                 0.0\n",
      "21                 0.0\n",
      "22                 0.0\n",
      "23                 0.0\n",
      "24                 0.0\n",
      "25                 0.0\n",
      "26                 0.0\n",
      "27                 0.0\n",
      "28                 0.0\n",
      "29                 0.0\n",
      "Salary             0.0\n",
      "YearsExperience    0.0\n",
      "dtype: float64\n"
     ]
    }
   ],
   "source": [
    "#Analyze the performance of the model by calculating the mean squared error.\n",
    "error1 = salary - pred\n",
    "se = np.sum(error1 ** 2)\n",
    "mse = se/n\n",
    "print(\"mean squared error is\", mse)"
   ]
  },
  {
   "cell_type": "code",
   "execution_count": 11,
   "id": "1c720354",
   "metadata": {},
   "outputs": [
    {
     "name": "stdout",
     "output_type": "stream",
     "text": [
      "slop [9449.96232146]\n",
      "Intercept 25792.20019866871\n",
      "MSE 31270951.722280968\n"
     ]
    }
   ],
   "source": [
    "#Use the scikit library to confirm the above steps.\n",
    "from sklearn.linear_model import LinearRegression\n",
    "from sklearn.metrics import mean_squared_error\n",
    "x = np.array(x).reshape(-1,1)\n",
    "model = LinearRegression()\n",
    "model.fit(x,y)\n",
    "salary_pred = model.predict(x)\n",
    "Mse = mean_squared_error(y, salary_pred)\n",
    "print('slop', model.coef_)\n",
    "print(\"Intercept\", model.intercept_)\n",
    "print(\"MSE\", Mse)"
   ]
  },
  {
   "cell_type": "code",
   "execution_count": null,
   "id": "2f310b96",
   "metadata": {},
   "outputs": [],
   "source": []
  },
  {
   "cell_type": "code",
   "execution_count": null,
   "id": "03177e15",
   "metadata": {},
   "outputs": [],
   "source": []
  }
 ],
 "metadata": {
  "kernelspec": {
   "display_name": "Python 3 (ipykernel)",
   "language": "python",
   "name": "python3"
  },
  "language_info": {
   "codemirror_mode": {
    "name": "ipython",
    "version": 3
   },
   "file_extension": ".py",
   "mimetype": "text/x-python",
   "name": "python",
   "nbconvert_exporter": "python",
   "pygments_lexer": "ipython3",
   "version": "3.9.7"
  }
 },
 "nbformat": 4,
 "nbformat_minor": 5
}
